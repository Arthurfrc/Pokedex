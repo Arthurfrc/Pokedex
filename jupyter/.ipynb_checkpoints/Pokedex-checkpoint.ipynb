{
 "cells": [
  {
   "cell_type": "code",
   "execution_count": 14,
   "id": "a909ff09",
   "metadata": {},
   "outputs": [
    {
     "name": "stdout",
     "output_type": "stream",
     "text": [
      "Requirement already satisfied: tqdm in c:\\python311\\lib\\site-packages (4.66.5)\n",
      "Requirement already satisfied: requests in c:\\python311\\lib\\site-packages (2.31.0)\n",
      "Requirement already satisfied: colorama in c:\\python311\\lib\\site-packages (from tqdm) (0.4.6)\n",
      "Requirement already satisfied: charset-normalizer<4,>=2 in c:\\python311\\lib\\site-packages (from requests) (3.1.0)\n",
      "Requirement already satisfied: idna<4,>=2.5 in c:\\python311\\lib\\site-packages (from requests) (3.4)\n",
      "Requirement already satisfied: urllib3<3,>=1.21.1 in c:\\python311\\lib\\site-packages (from requests) (1.26.16)\n",
      "Requirement already satisfied: certifi>=2017.4.17 in c:\\python311\\lib\\site-packages (from requests) (2023.5.7)\n"
     ]
    }
   ],
   "source": [
    "!pip install tqdm requests"
   ]
  },
  {
   "cell_type": "code",
   "execution_count": 16,
   "id": "250e19a0",
   "metadata": {},
   "outputs": [],
   "source": [
    "import os\n",
    "import requests\n",
    "from tqdm.notebook import tqdm\n",
    "from pathlib import Path"
   ]
  },
  {
   "cell_type": "code",
   "execution_count": 18,
   "id": "3fcd0d47",
   "metadata": {},
   "outputs": [],
   "source": [
    "def create_folder(path):\n",
    "    Path(path).mkdir(parents=True, exist_ok=True)\n",
    "\n",
    "def download_image(url, path):\n",
    "    try:\n",
    "        response = requests.get(url, timeout=10)\n",
    "        if response.status_code == 200:\n",
    "            with open(path, 'wb') as f:\n",
    "                f.write(response.content)\n",
    "            return True\n",
    "    except Exception as e:\n",
    "        pass\n",
    "    return False"
   ]
  },
  {
   "cell_type": "code",
   "execution_count": 19,
   "id": "692882eb",
   "metadata": {},
   "outputs": [],
   "source": [
    "def get_pokemon_data(start: int, end: int):\n",
    "    url = \"https://pokeapi.co/api/v2/pokemon?limit=10000\"\n",
    "    response = requests.get(url)\n",
    "    data = response.json()\n",
    "    \n",
    "    pokemon = []\n",
    "    for entry in data['results']:\n",
    "        name = entry['name']\n",
    "        try:\n",
    "            url_id = int(entry['url'].split('/')[-2])\n",
    "        except:\n",
    "            continue\n",
    "        if start <= url_id <= end:\n",
    "            pokemon.append((name, url_id))\n",
    "    return pokemon\n"
   ]
  },
  {
   "cell_type": "code",
   "execution_count": 23,
   "id": "ecfb722c",
   "metadata": {},
   "outputs": [],
   "source": [
    "def baixar_pokemon(pokemon_name: str, pokemon_id: int, folder_path: str):\n",
    "    forms = [\"\", \"-mega\", \"-megax\", \"-megay\", \"-gmax\", \"-alola\", \"-galar\", \"-hisui\", \"-paldea\"]\n",
    "    \n",
    "    # Formatar o nome da pasta como \"0006 - Charizard\"\n",
    "    folder_name = f\"{str(pokemon_id).zfill(4)} - {pokemon_name.capitalize()}\"\n",
    "    folder = Path(folder_path) / folder_name\n",
    "    folder.mkdir(parents=True, exist_ok=True)\n",
    "    \n",
    "    base_name = pokemon_name.lower()\n",
    "    \n",
    "    for form in forms:\n",
    "        form_name = base_name + form\n",
    "        \n",
    "        # PNGs (oficial e shiny)\n",
    "        if form == \"\":\n",
    "            # Oficial\n",
    "            png_url = f\"https://assets.pokemon.com/assets/cms2/img/pokedex/full/{str(pokemon_id).zfill(3)}.png\"\n",
    "            download_image(png_url, folder / f\"{form_name}.png\")\n",
    "        \n",
    "        else:\n",
    "            # Sprites alternativos que não existem no site oficial\n",
    "            static_url = f\"https://play.pokemonshowdown.com/sprites/ani/{form_name}.gif\".replace(\".gif\", \".png\")\n",
    "            shiny_static_url = f\"https://play.pokemonshowdown.com/sprites/ani-shiny/{form_name}.gif\".replace(\".gif\", \".png\")\n",
    "            download_image(static_url, folder / f\"{form_name}.png\")\n",
    "            download_image(shiny_static_url, folder / f\"{form_name}-shiny.png\")\n",
    "        \n",
    "        # GIFs (normais e shiny)\n",
    "        gif_url = f\"https://play.pokemonshowdown.com/sprites/ani/{form_name}.gif\"\n",
    "        shiny_gif_url = f\"https://play.pokemonshowdown.com/sprites/ani-shiny/{form_name}.gif\"\n",
    "        download_image(gif_url, folder / f\"{form_name}.gif\")\n",
    "        download_image(shiny_gif_url, folder / f\"{form_name}-shiny.gif\")\n"
   ]
  },
  {
   "cell_type": "code",
   "execution_count": 22,
   "id": "8d3cfaa4",
   "metadata": {},
   "outputs": [
    {
     "ename": "KeyboardInterrupt",
     "evalue": "Interrupted by user",
     "output_type": "error",
     "traceback": [
      "\u001b[1;31m---------------------------------------------------------------------------\u001b[0m",
      "\u001b[1;31mKeyboardInterrupt\u001b[0m                         Traceback (most recent call last)",
      "Cell \u001b[1;32mIn[22], line 2\u001b[0m\n\u001b[0;32m      1\u001b[0m \u001b[38;5;66;03m# Caminho de destino\u001b[39;00m\n\u001b[1;32m----> 2\u001b[0m base_folder \u001b[38;5;241m=\u001b[39m \u001b[38;5;28;43minput\u001b[39;49m\u001b[43m(\u001b[49m\u001b[38;5;124;43m\"\u001b[39;49m\u001b[38;5;124;43mDigite o caminho completo onde serão salvas as imagens: \u001b[39;49m\u001b[38;5;124;43m\"\u001b[39;49m\u001b[43m)\u001b[49m\u001b[38;5;241m.\u001b[39mstrip()\n\u001b[0;32m      3\u001b[0m create_folder(base_folder)\n\u001b[0;32m      5\u001b[0m \u001b[38;5;66;03m# Faixa da Pokédex\u001b[39;00m\n",
      "File \u001b[1;32mC:\\Python311\\Lib\\site-packages\\ipykernel\\kernelbase.py:1191\u001b[0m, in \u001b[0;36mKernel.raw_input\u001b[1;34m(self, prompt)\u001b[0m\n\u001b[0;32m   1189\u001b[0m     msg \u001b[38;5;241m=\u001b[39m \u001b[38;5;124m\"\u001b[39m\u001b[38;5;124mraw_input was called, but this frontend does not support input requests.\u001b[39m\u001b[38;5;124m\"\u001b[39m\n\u001b[0;32m   1190\u001b[0m     \u001b[38;5;28;01mraise\u001b[39;00m StdinNotImplementedError(msg)\n\u001b[1;32m-> 1191\u001b[0m \u001b[38;5;28;01mreturn\u001b[39;00m \u001b[38;5;28;43mself\u001b[39;49m\u001b[38;5;241;43m.\u001b[39;49m\u001b[43m_input_request\u001b[49m\u001b[43m(\u001b[49m\n\u001b[0;32m   1192\u001b[0m \u001b[43m    \u001b[49m\u001b[38;5;28;43mstr\u001b[39;49m\u001b[43m(\u001b[49m\u001b[43mprompt\u001b[49m\u001b[43m)\u001b[49m\u001b[43m,\u001b[49m\n\u001b[0;32m   1193\u001b[0m \u001b[43m    \u001b[49m\u001b[38;5;28;43mself\u001b[39;49m\u001b[38;5;241;43m.\u001b[39;49m\u001b[43m_parent_ident\u001b[49m\u001b[43m[\u001b[49m\u001b[38;5;124;43m\"\u001b[39;49m\u001b[38;5;124;43mshell\u001b[39;49m\u001b[38;5;124;43m\"\u001b[39;49m\u001b[43m]\u001b[49m\u001b[43m,\u001b[49m\n\u001b[0;32m   1194\u001b[0m \u001b[43m    \u001b[49m\u001b[38;5;28;43mself\u001b[39;49m\u001b[38;5;241;43m.\u001b[39;49m\u001b[43mget_parent\u001b[49m\u001b[43m(\u001b[49m\u001b[38;5;124;43m\"\u001b[39;49m\u001b[38;5;124;43mshell\u001b[39;49m\u001b[38;5;124;43m\"\u001b[39;49m\u001b[43m)\u001b[49m\u001b[43m,\u001b[49m\n\u001b[0;32m   1195\u001b[0m \u001b[43m    \u001b[49m\u001b[43mpassword\u001b[49m\u001b[38;5;241;43m=\u001b[39;49m\u001b[38;5;28;43;01mFalse\u001b[39;49;00m\u001b[43m,\u001b[49m\n\u001b[0;32m   1196\u001b[0m \u001b[43m\u001b[49m\u001b[43m)\u001b[49m\n",
      "File \u001b[1;32mC:\\Python311\\Lib\\site-packages\\ipykernel\\kernelbase.py:1234\u001b[0m, in \u001b[0;36mKernel._input_request\u001b[1;34m(self, prompt, ident, parent, password)\u001b[0m\n\u001b[0;32m   1231\u001b[0m \u001b[38;5;28;01mexcept\u001b[39;00m \u001b[38;5;167;01mKeyboardInterrupt\u001b[39;00m:\n\u001b[0;32m   1232\u001b[0m     \u001b[38;5;66;03m# re-raise KeyboardInterrupt, to truncate traceback\u001b[39;00m\n\u001b[0;32m   1233\u001b[0m     msg \u001b[38;5;241m=\u001b[39m \u001b[38;5;124m\"\u001b[39m\u001b[38;5;124mInterrupted by user\u001b[39m\u001b[38;5;124m\"\u001b[39m\n\u001b[1;32m-> 1234\u001b[0m     \u001b[38;5;28;01mraise\u001b[39;00m \u001b[38;5;167;01mKeyboardInterrupt\u001b[39;00m(msg) \u001b[38;5;28;01mfrom\u001b[39;00m \u001b[38;5;28;01mNone\u001b[39;00m\n\u001b[0;32m   1235\u001b[0m \u001b[38;5;28;01mexcept\u001b[39;00m \u001b[38;5;167;01mException\u001b[39;00m:\n\u001b[0;32m   1236\u001b[0m     \u001b[38;5;28mself\u001b[39m\u001b[38;5;241m.\u001b[39mlog\u001b[38;5;241m.\u001b[39mwarning(\u001b[38;5;124m\"\u001b[39m\u001b[38;5;124mInvalid Message:\u001b[39m\u001b[38;5;124m\"\u001b[39m, exc_info\u001b[38;5;241m=\u001b[39m\u001b[38;5;28;01mTrue\u001b[39;00m)\n",
      "\u001b[1;31mKeyboardInterrupt\u001b[0m: Interrupted by user"
     ]
    }
   ],
   "source": [
    "# Caminho de destino\n",
    "base_folder = r\"C:\\Users\\corps\\Documents\\Cursor\\pokedex\\jupyter\\images\"\n",
    "create_folder(base_folder)\n",
    "\n",
    "# Faixa da Pokédex\n",
    "start_id = int(input(\"Número inicial da Pokédex: \"))\n",
    "end_id = int(input(\"Número final da Pokédex: \"))\n",
    "\n",
    "# Obter lista\n",
    "lista_pokemon = get_pokemon_data(start_id, end_id)\n",
    "\n",
    "# Baixar todos\n",
    "for name, pid in tqdm(lista_pokemon):\n",
    "    baixar_pokemon(name, pid, base_folder)\n"
   ]
  },
  {
   "cell_type": "code",
   "execution_count": null,
   "id": "861944ba",
   "metadata": {},
   "outputs": [],
   "source": []
  }
 ],
 "metadata": {
  "kernelspec": {
   "display_name": "Python 3 (ipykernel)",
   "language": "python",
   "name": "python3"
  },
  "language_info": {
   "codemirror_mode": {
    "name": "ipython",
    "version": 3
   },
   "file_extension": ".py",
   "mimetype": "text/x-python",
   "name": "python",
   "nbconvert_exporter": "python",
   "pygments_lexer": "ipython3",
   "version": "3.11.2"
  }
 },
 "nbformat": 4,
 "nbformat_minor": 5
}
