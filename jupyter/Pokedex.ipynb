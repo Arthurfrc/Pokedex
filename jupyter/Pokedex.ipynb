{
 "cells": [
  {
   "cell_type": "code",
   "execution_count": 14,
   "id": "5c7b9295",
   "metadata": {},
   "outputs": [
    {
     "name": "stdout",
     "output_type": "stream",
     "text": [
      "Requirement already satisfied: tqdm in c:\\python311\\lib\\site-packages (4.66.5)\n",
      "Requirement already satisfied: requests in c:\\python311\\lib\\site-packages (2.31.0)\n",
      "Requirement already satisfied: colorama in c:\\python311\\lib\\site-packages (from tqdm) (0.4.6)\n",
      "Requirement already satisfied: charset-normalizer<4,>=2 in c:\\python311\\lib\\site-packages (from requests) (3.1.0)\n",
      "Requirement already satisfied: idna<4,>=2.5 in c:\\python311\\lib\\site-packages (from requests) (3.4)\n",
      "Requirement already satisfied: urllib3<3,>=1.21.1 in c:\\python311\\lib\\site-packages (from requests) (1.26.16)\n",
      "Requirement already satisfied: certifi>=2017.4.17 in c:\\python311\\lib\\site-packages (from requests) (2023.5.7)\n"
     ]
    }
   ],
   "source": [
    "!pip install tqdm requests"
   ]
  },
  {
   "cell_type": "code",
   "execution_count": 16,
   "id": "b7e07302",
   "metadata": {},
   "outputs": [],
   "source": [
    "import os\n",
    "import requests\n",
    "from tqdm.notebook import tqdm\n",
    "from pathlib import Path"
   ]
  },
  {
   "cell_type": "code",
   "execution_count": 18,
   "id": "1f2a5699",
   "metadata": {},
   "outputs": [],
   "source": [
    "def create_folder(path):\n",
    "    Path(path).mkdir(parents=True, exist_ok=True)\n",
    "\n",
    "def download_image(url, path):\n",
    "    try:\n",
    "        response = requests.get(url, timeout=10)\n",
    "        if response.status_code == 200:\n",
    "            with open(path, 'wb') as f:\n",
    "                f.write(response.content)\n",
    "            return True\n",
    "    except Exception as e:\n",
    "        pass\n",
    "    return False"
   ]
  },
  {
   "cell_type": "code",
   "execution_count": 19,
   "id": "ced9099f",
   "metadata": {},
   "outputs": [],
   "source": [
    "def get_pokemon_data(start: int, end: int):\n",
    "    url = \"https://pokeapi.co/api/v2/pokemon?limit=10000\"\n",
    "    response = requests.get(url)\n",
    "    data = response.json()\n",
    "    \n",
    "    pokemon = []\n",
    "    for entry in data['results']:\n",
    "        name = entry['name']\n",
    "        try:\n",
    "            url_id = int(entry['url'].split('/')[-2])\n",
    "        except:\n",
    "            continue\n",
    "        if start <= url_id <= end:\n",
    "            pokemon.append((name, url_id))\n",
    "    return pokemon\n"
   ]
  },
  {
   "cell_type": "code",
   "execution_count": 23,
   "id": "115ca080",
   "metadata": {},
   "outputs": [],
   "source": [
    "def baixar_pokemon(pokemon_name: str, pokemon_id: int, folder_path: str):\n",
    "    forms = [\"\", \"-mega\", \"-megax\", \"-megay\", \"-gmax\", \"-alola\", \"-galar\", \"-hisui\", \"-paldea\"]\n",
    "    \n",
    "    # Formatar o nome da pasta como \"0006 - Charizard\"\n",
    "    folder_name = f\"{str(pokemon_id).zfill(4)} - {pokemon_name.capitalize()}\"\n",
    "    folder = Path(folder_path) / folder_name\n",
    "    folder.mkdir(parents=True, exist_ok=True)\n",
    "    \n",
    "    base_name = pokemon_name.lower()\n",
    "    \n",
    "    for form in forms:\n",
    "        form_name = base_name + form\n",
    "        \n",
    "        # PNGs (oficial e shiny)\n",
    "        if form == \"\":\n",
    "            # Oficial\n",
    "            png_url = f\"https://assets.pokemon.com/assets/cms2/img/pokedex/full/{str(pokemon_id).zfill(3)}.png\"\n",
    "            download_image(png_url, folder / f\"{form_name}.png\")\n",
    "        \n",
    "        else:\n",
    "            # Sprites alternativos que não existem no site oficial\n",
    "            static_url = f\"https://play.pokemonshowdown.com/sprites/ani/{form_name}.gif\".replace(\".gif\", \".png\")\n",
    "            shiny_static_url = f\"https://play.pokemonshowdown.com/sprites/ani-shiny/{form_name}.gif\".replace(\".gif\", \".png\")\n",
    "            download_image(static_url, folder / f\"{form_name}.png\")\n",
    "            download_image(shiny_static_url, folder / f\"{form_name}-shiny.png\")\n",
    "        \n",
    "        # GIFs (normais e shiny)\n",
    "        gif_url = f\"https://play.pokemonshowdown.com/sprites/ani/{form_name}.gif\"\n",
    "        shiny_gif_url = f\"https://play.pokemonshowdown.com/sprites/ani-shiny/{form_name}.gif\"\n",
    "        download_image(gif_url, folder / f\"{form_name}.gif\")\n",
    "        download_image(shiny_gif_url, folder / f\"{form_name}-shiny.gif\")\n"
   ]
  },
  {
   "cell_type": "code",
   "execution_count": 26,
   "id": "bc0622c5",
   "metadata": {},
   "outputs": [
    {
     "name": "stdout",
     "output_type": "stream",
     "text": [
      "Número inicial da Pokédex: 21\n",
      "Número final da Pokédex: 50\n"
     ]
    },
    {
     "data": {
      "application/vnd.jupyter.widget-view+json": {
       "model_id": "e104ea037de149e3844ab5d38d8b8fa6",
       "version_major": 2,
       "version_minor": 0
      },
      "text/plain": [
       "  0%|          | 0/30 [00:00<?, ?it/s]"
      ]
     },
     "metadata": {},
     "output_type": "display_data"
    }
   ],
   "source": [
    "# Caminho de destino\n",
    "base_folder = r\"C:\\Users\\corps\\Documents\\Cursor\\pokedex\\jupyter\\images\"\n",
    "create_folder(base_folder)\n",
    "\n",
    "# Faixa da Pokédex\n",
    "start_id = int(input(\"Número inicial da Pokédex: \"))\n",
    "end_id = int(input(\"Número final da Pokédex: \"))\n",
    "\n",
    "# Obter lista\n",
    "lista_pokemon = get_pokemon_data(start_id, end_id)\n",
    "\n",
    "# Baixar todos\n",
    "for name, pid in tqdm(lista_pokemon):\n",
    "    baixar_pokemon(name, pid, base_folder)\n"
   ]
  },
  {
   "cell_type": "code",
   "execution_count": null,
   "id": "9e419e8f",
   "metadata": {},
   "outputs": [],
   "source": []
  }
 ],
 "metadata": {
  "kernelspec": {
   "display_name": "Python 3 (ipykernel)",
   "language": "python",
   "name": "python3"
  },
  "language_info": {
   "codemirror_mode": {
    "name": "ipython",
    "version": 3
   },
   "file_extension": ".py",
   "mimetype": "text/x-python",
   "name": "python",
   "nbconvert_exporter": "python",
   "pygments_lexer": "ipython3",
   "version": "3.11.2"
  }
 },
 "nbformat": 4,
 "nbformat_minor": 5
}
