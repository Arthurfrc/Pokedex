{
 "cells": [
  {
   "cell_type": "code",
   "execution_count": 14,
   "id": "5c7b9295",
   "metadata": {},
   "outputs": [
    {
     "name": "stdout",
     "output_type": "stream",
     "text": [
      "Defaulting to user installation because normal site-packages is not writeable\n",
      "Requirement already satisfied: tqdm in c:\\users\\artur\\appdata\\local\\packages\\pythonsoftwarefoundation.python.3.13_qbz5n2kfra8p0\\localcache\\local-packages\\python313\\site-packages (4.67.1)\n",
      "Requirement already satisfied: requests in c:\\users\\artur\\appdata\\local\\packages\\pythonsoftwarefoundation.python.3.13_qbz5n2kfra8p0\\localcache\\local-packages\\python313\\site-packages (2.32.3)\n",
      "Requirement already satisfied: colorama in c:\\users\\artur\\appdata\\local\\packages\\pythonsoftwarefoundation.python.3.13_qbz5n2kfra8p0\\localcache\\local-packages\\python313\\site-packages (from tqdm) (0.4.6)\n",
      "Requirement already satisfied: charset-normalizer<4,>=2 in c:\\users\\artur\\appdata\\local\\packages\\pythonsoftwarefoundation.python.3.13_qbz5n2kfra8p0\\localcache\\local-packages\\python313\\site-packages (from requests) (3.4.1)\n",
      "Requirement already satisfied: idna<4,>=2.5 in c:\\users\\artur\\appdata\\local\\packages\\pythonsoftwarefoundation.python.3.13_qbz5n2kfra8p0\\localcache\\local-packages\\python313\\site-packages (from requests) (3.10)\n",
      "Requirement already satisfied: urllib3<3,>=1.21.1 in c:\\users\\artur\\appdata\\local\\packages\\pythonsoftwarefoundation.python.3.13_qbz5n2kfra8p0\\localcache\\local-packages\\python313\\site-packages (from requests) (2.4.0)\n",
      "Requirement already satisfied: certifi>=2017.4.17 in c:\\users\\artur\\appdata\\local\\packages\\pythonsoftwarefoundation.python.3.13_qbz5n2kfra8p0\\localcache\\local-packages\\python313\\site-packages (from requests) (2025.1.31)\n",
      "Note: you may need to restart the kernel to use updated packages.\n"
     ]
    }
   ],
   "source": [
    "pip install tqdm requests"
   ]
  },
  {
   "cell_type": "code",
   "execution_count": 15,
   "id": "b7e07302",
   "metadata": {},
   "outputs": [],
   "source": [
    "import os\n",
    "import requests\n",
    "from tqdm.notebook import tqdm\n",
    "from pathlib import Path"
   ]
  },
  {
   "cell_type": "code",
   "execution_count": 16,
   "id": "1f2a5699",
   "metadata": {},
   "outputs": [],
   "source": [
    "def create_folder(path):\n",
    "    Path(path).mkdir(parents=True, exist_ok=True)\n",
    "\n",
    "def download_image(url, path):\n",
    "    try:\n",
    "        response = requests.get(url, timeout=10)\n",
    "        if response.status_code == 200:\n",
    "            with open(path, 'wb') as f:\n",
    "                f.write(response.content)\n",
    "            return True\n",
    "    except Exception as e:\n",
    "        pass\n",
    "    return False"
   ]
  },
  {
   "cell_type": "code",
   "execution_count": 17,
   "id": "ced9099f",
   "metadata": {},
   "outputs": [],
   "source": [
    "def get_pokemon_data(start: int, end: int):\n",
    "    url = \"https://pokeapi.co/api/v2/pokemon?limit=10000\"\n",
    "    response = requests.get(url)\n",
    "    data = response.json()\n",
    "    \n",
    "    pokemon = []\n",
    "    for entry in data['results']:\n",
    "        name = entry['name']\n",
    "        try:\n",
    "            url_id = int(entry['url'].split('/')[-2])\n",
    "        except:\n",
    "            continue\n",
    "        if start <= url_id <= end:\n",
    "            pokemon.append((name, url_id))\n",
    "    return pokemon\n"
   ]
  },
  {
   "cell_type": "code",
   "execution_count": 18,
   "id": "039e5a9e",
   "metadata": {},
   "outputs": [],
   "source": [
    "def check_image_exists(url: str) -> bool:\n",
    "    #print(url)\n",
    "    \"\"\"Verificar se existe a imagem na URL fornecida\"\"\"\n",
    "    try:\n",
    "        response = requests.head(url, allow_redirects=True)\n",
    "        return response.status_code == 200\n",
    "    except requests.RequestException:\n",
    "        return False"
   ]
  },
  {
   "cell_type": "code",
   "execution_count": 19,
   "id": "115ca080",
   "metadata": {},
   "outputs": [],
   "source": [
    "def baixar_pokemon(pokemon_name: str, pokemon_id: int, folder_path: str):\n",
    "    forms = [\"\", \"-mega\", \"-megax\", \"-megay\", \"-gmax\", \"-alola\", \"-galar\", \"-hisui\", \"-paldea\"]\n",
    "    \n",
    "    # Formatar o nome da pasta como \"XXXX - Nome do pokémon\"\n",
    "    folder_name = f\"{str(pokemon_id).zfill(4)} - {pokemon_name.capitalize()}\"\n",
    "    folder = Path(folder_path) / folder_name\n",
    "    folder.mkdir(parents=True, exist_ok=True)\n",
    "    \n",
    "    base_name = pokemon_name.lower().replace(\".\",\"\").replace(\" \",\"\").replace(\"-\",\"\")\n",
    "    base_id = str(pokemon_id).zfill(3)\n",
    "    base_url = f\"https://assets.pokemon.com/assets/cms2/img/pokedex/full/\"\n",
    "    \n",
    "    for form in forms:\n",
    "        form_name = base_name + form\n",
    "        \n",
    "        # PNGs (oficial e shiny)\n",
    "        if form == \"\":\n",
    "            # Oficial\n",
    "            png_url = f\"{base_url}{base_id}.png\"\n",
    "            #print(png_url)\n",
    "            \n",
    "            if not (check_image_exists(png_url)):\n",
    "                continue\n",
    "            \n",
    "            download_image(png_url, folder / f\"{form_name}.png\")\n",
    "            \n",
    "            # Verificar formas em PNG\n",
    "            suffix = 2\n",
    "            while True:\n",
    "                variation_url = f\"{base_url}{base_id}_f{suffix}.png\"\n",
    "                success = download_image(variation_url, folder / f\"{form_name}_f{suffix}.png\")\n",
    "                if not success:\n",
    "                    break\n",
    "                suffix += 1\n",
    "        else:\n",
    "            # Sprites alternativos que não existem no site oficial\n",
    "            gif_url = f\"https://play.pokemonshowdown.com/sprites/ani/{form_name}.gif\"\n",
    "            \n",
    "            if not (check_image_exists(gif_url)):\n",
    "                continue\n",
    "                \n",
    "            #shiny_sprite_url = f\"https://play.pokemonshowdown.com/sprites/ani-shiny/{form_name}.gif\"\n",
    "            #download_image(gif_url, folder / f\"{form_name}.png\")\n",
    "            #download_image(shiny_sprite_url, folder / f\"{form_name}-shiny.png\")\n",
    "        \n",
    "        # GIFs (normais e shiny)\n",
    "        gif_url = f\"https://play.pokemonshowdown.com/sprites/ani/{form_name}.gif\"\n",
    "        shiny_gif_url = f\"https://play.pokemonshowdown.com/sprites/ani-shiny/{form_name}.gif\"\n",
    "        #print(shiny_gif_url)\n",
    "        download_image(gif_url, folder / f\"{form_name}.gif\")\n",
    "        download_image(shiny_gif_url, folder / f\"{form_name}-shiny.gif\")\n"
   ]
  },
  {
   "cell_type": "code",
   "execution_count": 20,
   "id": "bc0622c5",
   "metadata": {},
   "outputs": [
    {
     "name": "stderr",
     "output_type": "stream",
     "text": [
      "Exception ignored in: <function tqdm.__del__ at 0x0000020B3172BF60>\n",
      "Traceback (most recent call last):\n",
      "  File \"C:\\Users\\artur\\AppData\\Local\\Packages\\PythonSoftwareFoundation.Python.3.13_qbz5n2kfra8p0\\LocalCache\\local-packages\\Python313\\site-packages\\tqdm\\std.py\", line 1148, in __del__\n",
      "    self.close()\n",
      "  File \"C:\\Users\\artur\\AppData\\Local\\Packages\\PythonSoftwareFoundation.Python.3.13_qbz5n2kfra8p0\\LocalCache\\local-packages\\Python313\\site-packages\\tqdm\\notebook.py\", line 279, in close\n",
      "    self.disp(bar_style='danger', check_delay=False)\n",
      "AttributeError: 'tqdm_notebook' object has no attribute 'disp'\n"
     ]
    },
    {
     "ename": "ImportError",
     "evalue": "IProgress not found. Please update jupyter and ipywidgets. See https://ipywidgets.readthedocs.io/en/stable/user_install.html",
     "output_type": "error",
     "traceback": [
      "\u001b[31m---------------------------------------------------------------------------\u001b[39m",
      "\u001b[31mImportError\u001b[39m                               Traceback (most recent call last)",
      "\u001b[36mCell\u001b[39m\u001b[36m \u001b[39m\u001b[32mIn[20]\u001b[39m\u001b[32m, line 13\u001b[39m\n\u001b[32m     10\u001b[39m lista_pokemon = get_pokemon_data(start_id, end_id)\n\u001b[32m     12\u001b[39m \u001b[38;5;66;03m# Baixar todos\u001b[39;00m\n\u001b[32m---> \u001b[39m\u001b[32m13\u001b[39m \u001b[38;5;28;01mfor\u001b[39;00m name, pid \u001b[38;5;129;01min\u001b[39;00m \u001b[43mtqdm\u001b[49m\u001b[43m(\u001b[49m\u001b[43mlista_pokemon\u001b[49m\u001b[43m)\u001b[49m:\n\u001b[32m     14\u001b[39m     baixar_pokemon(name, pid, base_folder)\n",
      "\u001b[36mFile \u001b[39m\u001b[32m~\\AppData\\Local\\Packages\\PythonSoftwareFoundation.Python.3.13_qbz5n2kfra8p0\\LocalCache\\local-packages\\Python313\\site-packages\\tqdm\\notebook.py:234\u001b[39m, in \u001b[36mtqdm_notebook.__init__\u001b[39m\u001b[34m(self, *args, **kwargs)\u001b[39m\n\u001b[32m    232\u001b[39m unit_scale = \u001b[32m1\u001b[39m \u001b[38;5;28;01mif\u001b[39;00m \u001b[38;5;28mself\u001b[39m.unit_scale \u001b[38;5;129;01mis\u001b[39;00m \u001b[38;5;28;01mTrue\u001b[39;00m \u001b[38;5;28;01melse\u001b[39;00m \u001b[38;5;28mself\u001b[39m.unit_scale \u001b[38;5;129;01mor\u001b[39;00m \u001b[32m1\u001b[39m\n\u001b[32m    233\u001b[39m total = \u001b[38;5;28mself\u001b[39m.total * unit_scale \u001b[38;5;28;01mif\u001b[39;00m \u001b[38;5;28mself\u001b[39m.total \u001b[38;5;28;01melse\u001b[39;00m \u001b[38;5;28mself\u001b[39m.total\n\u001b[32m--> \u001b[39m\u001b[32m234\u001b[39m \u001b[38;5;28mself\u001b[39m.container = \u001b[38;5;28;43mself\u001b[39;49m\u001b[43m.\u001b[49m\u001b[43mstatus_printer\u001b[49m\u001b[43m(\u001b[49m\u001b[38;5;28;43mself\u001b[39;49m\u001b[43m.\u001b[49m\u001b[43mfp\u001b[49m\u001b[43m,\u001b[49m\u001b[43m \u001b[49m\u001b[43mtotal\u001b[49m\u001b[43m,\u001b[49m\u001b[43m \u001b[49m\u001b[38;5;28;43mself\u001b[39;49m\u001b[43m.\u001b[49m\u001b[43mdesc\u001b[49m\u001b[43m,\u001b[49m\u001b[43m \u001b[49m\u001b[38;5;28;43mself\u001b[39;49m\u001b[43m.\u001b[49m\u001b[43mncols\u001b[49m\u001b[43m)\u001b[49m\n\u001b[32m    235\u001b[39m \u001b[38;5;28mself\u001b[39m.container.pbar = proxy(\u001b[38;5;28mself\u001b[39m)\n\u001b[32m    236\u001b[39m \u001b[38;5;28mself\u001b[39m.displayed = \u001b[38;5;28;01mFalse\u001b[39;00m\n",
      "\u001b[36mFile \u001b[39m\u001b[32m~\\AppData\\Local\\Packages\\PythonSoftwareFoundation.Python.3.13_qbz5n2kfra8p0\\LocalCache\\local-packages\\Python313\\site-packages\\tqdm\\notebook.py:108\u001b[39m, in \u001b[36mtqdm_notebook.status_printer\u001b[39m\u001b[34m(_, total, desc, ncols)\u001b[39m\n\u001b[32m     99\u001b[39m \u001b[38;5;66;03m# Fallback to text bar if there's no total\u001b[39;00m\n\u001b[32m    100\u001b[39m \u001b[38;5;66;03m# DEPRECATED: replaced with an 'info' style bar\u001b[39;00m\n\u001b[32m    101\u001b[39m \u001b[38;5;66;03m# if not total:\u001b[39;00m\n\u001b[32m   (...)\u001b[39m\u001b[32m    105\u001b[39m \n\u001b[32m    106\u001b[39m \u001b[38;5;66;03m# Prepare IPython progress bar\u001b[39;00m\n\u001b[32m    107\u001b[39m \u001b[38;5;28;01mif\u001b[39;00m IProgress \u001b[38;5;129;01mis\u001b[39;00m \u001b[38;5;28;01mNone\u001b[39;00m:  \u001b[38;5;66;03m# #187 #451 #558 #872\u001b[39;00m\n\u001b[32m--> \u001b[39m\u001b[32m108\u001b[39m     \u001b[38;5;28;01mraise\u001b[39;00m \u001b[38;5;167;01mImportError\u001b[39;00m(WARN_NOIPYW)\n\u001b[32m    109\u001b[39m \u001b[38;5;28;01mif\u001b[39;00m total:\n\u001b[32m    110\u001b[39m     pbar = IProgress(\u001b[38;5;28mmin\u001b[39m=\u001b[32m0\u001b[39m, \u001b[38;5;28mmax\u001b[39m=total)\n",
      "\u001b[31mImportError\u001b[39m: IProgress not found. Please update jupyter and ipywidgets. See https://ipywidgets.readthedocs.io/en/stable/user_install.html"
     ]
    }
   ],
   "source": [
    "# Caminho de destino\n",
    "base_folder = r\"C:\\Users\\corps\\Documents\\Cursor\\github\\Pokedex\\jupyter\\images\"\n",
    "#base_folder = r\"C:\\Users\\artur\\Documents\\Pokedex\\jupyter\\images\"\n",
    "create_folder(base_folder)\n",
    "\n",
    "# Faixa da Pokédex\n",
    "start_id = int(input(\"Número inicial da Pokédex: \"))\n",
    "end_id = int(input(\"Número final da Pokédex: \"))\n",
    "\n",
    "# Obter lista\n",
    "lista_pokemon = get_pokemon_data(start_id, end_id)\n",
    "\n",
    "# Baixar todos\n",
    "for name, pid in tqdm(lista_pokemon):\n",
    "    baixar_pokemon(name, pid, base_folder)\n"
   ]
  },
  {
   "cell_type": "code",
   "execution_count": null,
   "id": "9e419e8f",
   "metadata": {},
   "outputs": [],
   "source": []
  }
 ],
 "metadata": {
  "kernelspec": {
   "display_name": "Python 3",
   "language": "python",
   "name": "python3"
  },
  "language_info": {
   "codemirror_mode": {
    "name": "ipython",
    "version": 3
   },
   "file_extension": ".py",
   "mimetype": "text/x-python",
   "name": "python",
   "nbconvert_exporter": "python",
   "pygments_lexer": "ipython3",
   "version": "3.13.3"
  }
 },
 "nbformat": 4,
 "nbformat_minor": 5
}
