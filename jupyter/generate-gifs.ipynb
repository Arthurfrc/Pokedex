{
 "cells": [
  {
   "cell_type": "code",
   "execution_count": 31,
   "metadata": {},
   "outputs": [
    {
     "name": "stdout",
     "output_type": "stream",
     "text": [
      "Requirement already satisfied: pillow in c:\\python311\\lib\\site-packages (10.4.0)Note: you may need to restart the kernel to use updated packages.\n",
      "\n",
      "Requirement already satisfied: imageio in c:\\python311\\lib\\site-packages (2.37.0)\n",
      "Requirement already satisfied: numpy in c:\\python311\\lib\\site-packages (1.26.1)\n",
      "Requirement already satisfied: requests in c:\\python311\\lib\\site-packages (2.31.0)\n",
      "Requirement already satisfied: charset-normalizer<4,>=2 in c:\\python311\\lib\\site-packages (from requests) (3.1.0)\n",
      "Requirement already satisfied: idna<4,>=2.5 in c:\\python311\\lib\\site-packages (from requests) (3.4)\n",
      "Requirement already satisfied: urllib3<3,>=1.21.1 in c:\\python311\\lib\\site-packages (from requests) (1.26.16)\n",
      "Requirement already satisfied: certifi>=2017.4.17 in c:\\python311\\lib\\site-packages (from requests) (2023.5.7)\n"
     ]
    }
   ],
   "source": [
    "%pip install pillow imageio numpy requests"
   ]
  },
  {
   "cell_type": "code",
   "execution_count": 34,
   "metadata": {},
   "outputs": [],
   "source": [
    "import requests\n",
    "from PIL import Image\n",
    "import imageio\n",
    "import numpy as np\n",
    "from pathlib import Path\n",
    "from io import BytesIO\n",
    "\n",
    "# Função para baixar um GIF de uma URL\n",
    "def baixar_gif(url):\n",
    "    response = requests.get(url)\n",
    "    return Image.open(BytesIO(response.content))\n",
    "\n",
    "url_base = \"https://play.pokemonshowdown.com/sprites/\"\n",
    "# URLs dos gifs\n",
    "url_normal = f\"{url_base}ani/arceus.gif\"\n",
    "url_formas = [f\"{url_base}ani/arceus-dragon.gif\",\n",
    "              f\"{url_base}ani/arceus-electric.gif\",\n",
    "              f\"{url_base}ani/arceus-fairy.gif\",\n",
    "              f\"{url_base}ani/arceus-fighting.gif\",\n",
    "              f\"{url_base}ani/arceus-fire.gif\",\n",
    "              f\"{url_base}ani/arceus-flying.gif\",\n",
    "              f\"{url_base}ani/arceus-ghost.gif\",\n",
    "              f\"{url_base}ani/arceus-grass.gif\",\n",
    "              f\"{url_base}ani/arceus-ground.gif\",\n",
    "              f\"{url_base}ani/arceus-ice.gif\",\n",
    "              f\"{url_base}ani/arceus-poison.gif\",\n",
    "              f\"{url_base}ani/arceus-psychic.gif\",\n",
    "              f\"{url_base}ani/arceus-rock.gif\",\n",
    "              f\"{url_base}ani/arceus-steel.gif\"]\n",
    "url_shiny = f\"{url_base}ani-shiny/arceus.gif\"\n",
    "\n",
    "# Baixar os GIFs\n",
    "pokemon_normal = baixar_gif(url_normal)\n",
    "pokemon_formas = [baixar_gif(url) for url in url_formas]\n",
    "pokemon_shiny = baixar_gif(url_shiny)\n"
   ]
  },
  {
   "cell_type": "code",
   "execution_count": 35,
   "metadata": {},
   "outputs": [],
   "source": [
    "# Função de extrair frames\n",
    "def extrair_frames(gif):\n",
    "    frames = []\n",
    "    try:\n",
    "        while True:\n",
    "            frame = gif.convert(\"RGBA\").copy()\n",
    "            frames.append(np.array(frame))\n",
    "            gif.seek(gif.tell() + 1)\n",
    "    except EOFError:\n",
    "        pass\n",
    "    return frames\n",
    "\n",
    "frames_normal = extrair_frames(pokemon_normal)\n",
    "frames_formas = [extrair_frames(f) for f in pokemon_formas]\n",
    "frames_shiny = extrair_frames(pokemon_shiny)"
   ]
  },
  {
   "cell_type": "code",
   "execution_count": 36,
   "metadata": {},
   "outputs": [
    {
     "name": "stdout",
     "output_type": "stream",
     "text": [
      "GIF salvo como: C:\\Users\\corps\\Documents\\Cursor\\github\\Pokedex\\jupyter\\images\\0493 - Arceus\\arceus-dragon-shiny.gif\n",
      "GIF salvo como: C:\\Users\\corps\\Documents\\Cursor\\github\\Pokedex\\jupyter\\images\\0493 - Arceus\\arceus-electric-shiny.gif\n",
      "GIF salvo como: C:\\Users\\corps\\Documents\\Cursor\\github\\Pokedex\\jupyter\\images\\0493 - Arceus\\arceus-fairy-shiny.gif\n",
      "GIF salvo como: C:\\Users\\corps\\Documents\\Cursor\\github\\Pokedex\\jupyter\\images\\0493 - Arceus\\arceus-fighting-shiny.gif\n",
      "GIF salvo como: C:\\Users\\corps\\Documents\\Cursor\\github\\Pokedex\\jupyter\\images\\0493 - Arceus\\arceus-fire-shiny.gif\n",
      "GIF salvo como: C:\\Users\\corps\\Documents\\Cursor\\github\\Pokedex\\jupyter\\images\\0493 - Arceus\\arceus-flying-shiny.gif\n",
      "GIF salvo como: C:\\Users\\corps\\Documents\\Cursor\\github\\Pokedex\\jupyter\\images\\0493 - Arceus\\arceus-ghost-shiny.gif\n",
      "GIF salvo como: C:\\Users\\corps\\Documents\\Cursor\\github\\Pokedex\\jupyter\\images\\0493 - Arceus\\arceus-grass-shiny.gif\n",
      "GIF salvo como: C:\\Users\\corps\\Documents\\Cursor\\github\\Pokedex\\jupyter\\images\\0493 - Arceus\\arceus-ground-shiny.gif\n",
      "GIF salvo como: C:\\Users\\corps\\Documents\\Cursor\\github\\Pokedex\\jupyter\\images\\0493 - Arceus\\arceus-ice-shiny.gif\n",
      "GIF salvo como: C:\\Users\\corps\\Documents\\Cursor\\github\\Pokedex\\jupyter\\images\\0493 - Arceus\\arceus-poison-shiny.gif\n",
      "GIF salvo como: C:\\Users\\corps\\Documents\\Cursor\\github\\Pokedex\\jupyter\\images\\0493 - Arceus\\arceus-psychic-shiny.gif\n",
      "GIF salvo como: C:\\Users\\corps\\Documents\\Cursor\\github\\Pokedex\\jupyter\\images\\0493 - Arceus\\arceus-rock-shiny.gif\n",
      "GIF salvo como: C:\\Users\\corps\\Documents\\Cursor\\github\\Pokedex\\jupyter\\images\\0493 - Arceus\\arceus-steel-shiny.gif\n"
     ]
    }
   ],
   "source": [
    "# Criar novo gif\n",
    "def combinar_frames(frames_shiny, frames_forma, frames_normal, limiar_dif=50):\n",
    "    resultado = []\n",
    "    num_frames = min(len(frames_shiny), len(frames_forma), len(frames_normal))\n",
    "\n",
    "    for i in range(num_frames):\n",
    "        shiny = frames_shiny[i]\n",
    "        forma = frames_forma[i]\n",
    "        normal = frames_normal[i]\n",
    "\n",
    "        # Máscara de diferença entre forma e normal (regiões coloridas)\n",
    "        diff = np.abs(forma[:, :, :3].astype(int) - normal[:, :, :3].astype(int))\n",
    "        mascara = np.any(diff > limiar_dif, axis=-1)\n",
    "\n",
    "        combinado = shiny.copy()\n",
    "        combinado[mascara] = forma[mascara]\n",
    "        resultado.append(Image.fromarray(combinado))\n",
    "    return resultado\n",
    "\n",
    "gifs = []\n",
    "for frames_forma in frames_formas:\n",
    "    gif = combinar_frames(frames_shiny, frames_forma, frames_normal)\n",
    "    gifs.append(gif)\n",
    "\n",
    "# Extrair o nome da forma (ex: \"water\") da URL\n",
    "formas = [url.split(\"/\")[-1].replace(\"arceus-\", \"\").replace(\".gif\", \"\") for url in url_formas]\n",
    "\n",
    "# Nome do novo arquivo\n",
    "base_path = f\"C:\\\\Users\\\\corps\\\\Documents\\\\Cursor\\\\github\\\\Pokedex\\\\jupyter\\\\images\\\\0493 - Arceus\"\n",
    "\n",
    "#duration = 80\n",
    "#durations = [duration] * len(frames_combinados)\n",
    "\n",
    "# Salvar o novo GIF\n",
    "for forma, frames in zip(formas, gifs):\n",
    "    output_path = f\"{base_path}\\\\arceus-{forma}-shiny.gif\"\n",
    "    frames[0].save(\n",
    "        output_path,\n",
    "        save_all=True,\n",
    "        append_images=frames[1:],\n",
    "        duration=70,\n",
    "        loop=0,\n",
    "        disposal=2\n",
    "    )\n",
    "\n",
    "    print(f\"GIF salvo como: {output_path}\")\n"
   ]
  },
  {
   "cell_type": "code",
   "execution_count": null,
   "metadata": {},
   "outputs": [],
   "source": []
  }
 ],
 "metadata": {
  "kernelspec": {
   "display_name": "Python 3",
   "language": "python",
   "name": "python3"
  },
  "language_info": {
   "codemirror_mode": {
    "name": "ipython",
    "version": 3
   },
   "file_extension": ".py",
   "mimetype": "text/x-python",
   "name": "python",
   "nbconvert_exporter": "python",
   "pygments_lexer": "ipython3",
   "version": "3.11.2"
  }
 },
 "nbformat": 4,
 "nbformat_minor": 2
}
