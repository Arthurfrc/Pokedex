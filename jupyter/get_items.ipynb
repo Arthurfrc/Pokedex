{
 "cells": [
  {
   "cell_type": "code",
   "execution_count": 6,
   "metadata": {},
   "outputs": [],
   "source": [
    "import os\n",
    "import requests\n",
    "from tqdm.notebook import tqdm\n",
    "from pathlib import Path"
   ]
  },
  {
   "cell_type": "code",
   "execution_count": 7,
   "metadata": {},
   "outputs": [],
   "source": [
    "# Funções auxiliares para criar pastas e baixar imagens\n",
    "def create_folder(path):\n",
    "    \"\"\"Cria uma pasta se ela não existir\"\"\"\n",
    "    Path(path).mkdir(parents=True, exist_ok=True)\n",
    "\n",
    "def download_image(url, path):\n",
    "    \"\"\"Baixa uma imagem da URL e salva no caminho especificado\"\"\"\n",
    "    try:\n",
    "        response = requests.get(url, timeout=10)\n",
    "        if response.status_code == 200:\n",
    "            with open(path, 'wb') as f:\n",
    "                f.write(response.content)\n",
    "            return True\n",
    "    except Exception as e:\n",
    "        print(f\"Erro ao baixar {url}: {e}\")\n",
    "    return False"
   ]
  },
  {
   "cell_type": "code",
   "execution_count": 16,
   "metadata": {},
   "outputs": [],
   "source": [
    "# Lista de itens de evolução\n",
    "evolution_items = [\n",
    "    \"fire-stone\", \"water-stone\", \"thunder-stone\", \"leaf-stone\", \"moon-stone\",\n",
    "    \"sun-stone\", \"shiny-stone\", \"dusk-stone\", \"dawn-stone\", \"ice-stone\",\n",
    "    \"kings-rock\", \"metal-coat\", \"dragon-scale\", \"up-grade\", \"protector\",\n",
    "    \"electirizer\", \"magmarizer\", \"dubious-disc\", \"reaper-cloth\", \"prism-scale\",\n",
    "    \"sachet\", \"whipped-dream\", \"tart-apple\", \"sweet-apple\", \"cracked-pot\",\n",
    "    \"chipped-pot\", \"galarica-cuff\", \"galarica-wreath\", \"auspicious-armor\",\n",
    "    \"malicious-armor\", \"masterpiece-teacup\", \"teacup\"\n",
    "]\n",
    "\n",
    "# Lista de HMs e TMs\n",
    "tm_items = [\n",
    "    \"tm-bug\", \"tm-dark\", \"tm-dragon\", \"tm-electric\", \"tm-fighting\",\n",
    "    \"tm-fire\", \"tm-flying\", \"tm-ghost\", \"tm-grass\", \"tm-ground\",\n",
    "    \"tm-ice\", \"tm-normal\", \"tm-poison\", \"tm-psychic\", \"tm-rock\",\n",
    "    \"tm-steel\", \"tm-water\"\n",
    "]\n",
    "\n",
    "# Lista de plates\n",
    "plates = [\n",
    "    \"insect-plate\",   # Bug  \n",
    "    \"dread-plate\",    # Dark  \n",
    "    \"draco-plate\",    # Dragon  \n",
    "    \"zap-plate\",      # Electric  \n",
    "    \"pixie-plate\",    # Fairy\n",
    "    \"fist-plate\",     # Fighting  \n",
    "    \"flame-plate\",    # Fire  \n",
    "    \"sky-plate\",      # Flying  \n",
    "    \"spooky-plate\",   # Ghost  \n",
    "    \"meadow-plate\",   # Grass  \n",
    "    \"icicle-plate\",   # Ice  \n",
    "    \"toxic-plate\",    # Poison  \n",
    "    \"mind-plate\",     # Psychic  \n",
    "    \"stone-plate\",    # Rock  \n",
    "    \"iron-plate\",     # Steel  \n",
    "    \"splash-plate\"    # Water  \n",
    "]\n",
    "\n",
    "mega_stones = [\n",
    "    \"abomasite\", \"absolite\", \"aerodactyl \", \"aggronite\", \"alakazite\",\n",
    "    \"altarianite\", \"ampharosite\", \"audinite\", \"banettite\", \"beedrillite\",\n",
    "    \"blastoisinite\", \"blazikenite\", \"cameruptite\", \"charizardite-x\", \"charizardite-y\",\n",
    "    \"diancite\", \"galladite\", \"garchompite\", \"gardevoirite\", \"gengarite\",\n",
    "    \"glalitite\", \"gyaradosite\", \"heracronite\", \"houndoominite\", \"kangaskhanite\",\n",
    "    \"latiasite\", \"latiosite\", \"lopunnite\", \"lucarionite\", \"manectite\",\n",
    "    \"mawilite\", \"medichamite\", \"mewtwonite-x\", \"mewtwonite-y\", \"metagrossite\",\n",
    "    \"pidgeotite\", \"pinsirite\", \"sablenite\", \"salamencite\", \"scizorite\",\n",
    "    \"sharpedonite\", \"slowbronite\", \"steelixite\", \"swampertite\", \"tyranitarite\",\n",
    "    \"venusaurite\"\n",
    "]\n",
    "\n",
    "# Base URL para os ícones\n",
    "base_url = \"https://play.pokemonshowdown.com/sprites/itemicons/\"\n",
    "base_mega_stones_url = \"https://raw.githubusercontent.com/msikma/pokesprite/refs/heads/master/items/mega-stone/\""
   ]
  },
  {
   "cell_type": "code",
   "execution_count": 22,
   "metadata": {},
   "outputs": [
    {
     "name": "stdout",
     "output_type": "stream",
     "text": [
      "Baixando itens de evolução...\n"
     ]
    },
    {
     "data": {
      "application/vnd.jupyter.widget-view+json": {
       "model_id": "c38acb96f8334422b4bd585190f6d118",
       "version_major": 2,
       "version_minor": 0
      },
      "text/plain": [
       "  0%|          | 0/32 [00:00<?, ?it/s]"
      ]
     },
     "metadata": {},
     "output_type": "display_data"
    },
    {
     "name": "stdout",
     "output_type": "stream",
     "text": [
      "\n",
      "Baixando HMs e TMs...\n"
     ]
    },
    {
     "data": {
      "application/vnd.jupyter.widget-view+json": {
       "model_id": "93ae545c29ec4351921f97d138670cc7",
       "version_major": 2,
       "version_minor": 0
      },
      "text/plain": [
       "  0%|          | 0/17 [00:00<?, ?it/s]"
      ]
     },
     "metadata": {},
     "output_type": "display_data"
    },
    {
     "name": "stdout",
     "output_type": "stream",
     "text": [
      "\n",
      "Baixando plates...\n"
     ]
    },
    {
     "data": {
      "application/vnd.jupyter.widget-view+json": {
       "model_id": "506206e49c2c4b1f8e9dc3be5b3b9cc6",
       "version_major": 2,
       "version_minor": 0
      },
      "text/plain": [
       "  0%|          | 0/16 [00:00<?, ?it/s]"
      ]
     },
     "metadata": {},
     "output_type": "display_data"
    },
    {
     "name": "stdout",
     "output_type": "stream",
     "text": [
      "\n",
      "Download concluído!\n",
      "\n",
      "Baixando mega stones...\n"
     ]
    },
    {
     "data": {
      "application/vnd.jupyter.widget-view+json": {
       "model_id": "e6e0e8adadf343308893aeaa02c6844b",
       "version_major": 2,
       "version_minor": 0
      },
      "text/plain": [
       "  0%|          | 0/46 [00:00<?, ?it/s]"
      ]
     },
     "metadata": {},
     "output_type": "display_data"
    },
    {
     "name": "stdout",
     "output_type": "stream",
     "text": [
      "Tentando baixar: https://raw.githubusercontent.com/msikma/pokesprite/refs/heads/master/items/mega-stone/abomasite.png\n",
      "Tentando baixar: https://raw.githubusercontent.com/msikma/pokesprite/refs/heads/master/items/mega-stone/absolite.png\n",
      "Tentando baixar: https://raw.githubusercontent.com/msikma/pokesprite/refs/heads/master/items/mega-stone/aerodactyl .png\n",
      "Tentando baixar: https://raw.githubusercontent.com/msikma/pokesprite/refs/heads/master/items/mega-stone/aggronite.png\n",
      "Tentando baixar: https://raw.githubusercontent.com/msikma/pokesprite/refs/heads/master/items/mega-stone/alakazite.png\n",
      "Tentando baixar: https://raw.githubusercontent.com/msikma/pokesprite/refs/heads/master/items/mega-stone/altarianite.png\n",
      "Tentando baixar: https://raw.githubusercontent.com/msikma/pokesprite/refs/heads/master/items/mega-stone/ampharosite.png\n",
      "Tentando baixar: https://raw.githubusercontent.com/msikma/pokesprite/refs/heads/master/items/mega-stone/audinite.png\n",
      "Tentando baixar: https://raw.githubusercontent.com/msikma/pokesprite/refs/heads/master/items/mega-stone/banettite.png\n",
      "Tentando baixar: https://raw.githubusercontent.com/msikma/pokesprite/refs/heads/master/items/mega-stone/beedrillite.png\n",
      "Tentando baixar: https://raw.githubusercontent.com/msikma/pokesprite/refs/heads/master/items/mega-stone/blastoisinite.png\n",
      "Tentando baixar: https://raw.githubusercontent.com/msikma/pokesprite/refs/heads/master/items/mega-stone/blazikenite.png\n",
      "Tentando baixar: https://raw.githubusercontent.com/msikma/pokesprite/refs/heads/master/items/mega-stone/cameruptite.png\n",
      "Tentando baixar: https://raw.githubusercontent.com/msikma/pokesprite/refs/heads/master/items/mega-stone/charizardite-x.png\n",
      "Tentando baixar: https://raw.githubusercontent.com/msikma/pokesprite/refs/heads/master/items/mega-stone/charizardite-y.png\n",
      "Tentando baixar: https://raw.githubusercontent.com/msikma/pokesprite/refs/heads/master/items/mega-stone/diancite.png\n",
      "Tentando baixar: https://raw.githubusercontent.com/msikma/pokesprite/refs/heads/master/items/mega-stone/galladite.png\n",
      "Tentando baixar: https://raw.githubusercontent.com/msikma/pokesprite/refs/heads/master/items/mega-stone/garchompite.png\n",
      "Tentando baixar: https://raw.githubusercontent.com/msikma/pokesprite/refs/heads/master/items/mega-stone/gardevoirite.png\n",
      "Tentando baixar: https://raw.githubusercontent.com/msikma/pokesprite/refs/heads/master/items/mega-stone/gengarite.png\n",
      "Tentando baixar: https://raw.githubusercontent.com/msikma/pokesprite/refs/heads/master/items/mega-stone/glalitite.png\n",
      "Tentando baixar: https://raw.githubusercontent.com/msikma/pokesprite/refs/heads/master/items/mega-stone/gyaradosite.png\n",
      "Tentando baixar: https://raw.githubusercontent.com/msikma/pokesprite/refs/heads/master/items/mega-stone/heracronite.png\n",
      "Tentando baixar: https://raw.githubusercontent.com/msikma/pokesprite/refs/heads/master/items/mega-stone/houndoominite.png\n",
      "Tentando baixar: https://raw.githubusercontent.com/msikma/pokesprite/refs/heads/master/items/mega-stone/kangaskhanite.png\n",
      "Tentando baixar: https://raw.githubusercontent.com/msikma/pokesprite/refs/heads/master/items/mega-stone/latiasite.png\n",
      "Tentando baixar: https://raw.githubusercontent.com/msikma/pokesprite/refs/heads/master/items/mega-stone/latiosite.png\n",
      "Tentando baixar: https://raw.githubusercontent.com/msikma/pokesprite/refs/heads/master/items/mega-stone/lopunnite.png\n",
      "Tentando baixar: https://raw.githubusercontent.com/msikma/pokesprite/refs/heads/master/items/mega-stone/lucarionite.png\n",
      "Tentando baixar: https://raw.githubusercontent.com/msikma/pokesprite/refs/heads/master/items/mega-stone/manectite.png\n",
      "Tentando baixar: https://raw.githubusercontent.com/msikma/pokesprite/refs/heads/master/items/mega-stone/mawilite.png\n",
      "Tentando baixar: https://raw.githubusercontent.com/msikma/pokesprite/refs/heads/master/items/mega-stone/medichamite.png\n",
      "Tentando baixar: https://raw.githubusercontent.com/msikma/pokesprite/refs/heads/master/items/mega-stone/mewtwonite-x.png\n",
      "Tentando baixar: https://raw.githubusercontent.com/msikma/pokesprite/refs/heads/master/items/mega-stone/mewtwonite-y.png\n",
      "Tentando baixar: https://raw.githubusercontent.com/msikma/pokesprite/refs/heads/master/items/mega-stone/metagrossite.png\n",
      "Tentando baixar: https://raw.githubusercontent.com/msikma/pokesprite/refs/heads/master/items/mega-stone/pidgeotite.png\n",
      "Tentando baixar: https://raw.githubusercontent.com/msikma/pokesprite/refs/heads/master/items/mega-stone/pinsirite.png\n",
      "Tentando baixar: https://raw.githubusercontent.com/msikma/pokesprite/refs/heads/master/items/mega-stone/sablenite.png\n",
      "Tentando baixar: https://raw.githubusercontent.com/msikma/pokesprite/refs/heads/master/items/mega-stone/salamencite.png\n",
      "Tentando baixar: https://raw.githubusercontent.com/msikma/pokesprite/refs/heads/master/items/mega-stone/scizorite.png\n",
      "Tentando baixar: https://raw.githubusercontent.com/msikma/pokesprite/refs/heads/master/items/mega-stone/sharpedonite.png\n",
      "Tentando baixar: https://raw.githubusercontent.com/msikma/pokesprite/refs/heads/master/items/mega-stone/slowbronite.png\n",
      "Tentando baixar: https://raw.githubusercontent.com/msikma/pokesprite/refs/heads/master/items/mega-stone/steelixite.png\n",
      "Tentando baixar: https://raw.githubusercontent.com/msikma/pokesprite/refs/heads/master/items/mega-stone/swampertite.png\n",
      "Tentando baixar: https://raw.githubusercontent.com/msikma/pokesprite/refs/heads/master/items/mega-stone/tyranitarite.png\n",
      "Tentando baixar: https://raw.githubusercontent.com/msikma/pokesprite/refs/heads/master/items/mega-stone/venusaurite.png\n",
      "\n",
      "Download concluído!\n"
     ]
    }
   ],
   "source": [
    "# Criar pasta de destino\n",
    "base_folder = Path(\"items\")\n",
    "create_folder(base_folder)\n",
    "create_folder(base_folder / \"evolution\")\n",
    "create_folder(base_folder / \"tms\")\n",
    "create_folder(base_folder / \"plates\")\n",
    "create_folder(base_folder / \"mega-stones\")\n",
    "\n",
    "# Baixar itens de evolução\n",
    "print(\"Baixando itens de evolução...\")\n",
    "for item in tqdm(evolution_items):\n",
    "    url = f\"{base_url}{item}.png\"\n",
    "    path = base_folder / f\"evolution/{item}.png\"\n",
    "    if path.exists():\n",
    "        continue\n",
    "    download_image(url, path)\n",
    "\n",
    "# Baixar tipos de HMs e TMs\n",
    "print(\"\\nBaixando HMs e TMs...\")\n",
    "for item in tqdm(tm_items):\n",
    "    url = f\"{base_url}{item}.png\"\n",
    "    path = base_folder / f\"tms/{item}.png\"\n",
    "    if path.exists():\n",
    "        continue\n",
    "    download_image(url, path)\n",
    "\n",
    "# Baixar plates\n",
    "print(\"\\nBaixando plates...\")\n",
    "for item in tqdm(plates):\n",
    "    url = f\"{base_url}{item}.png\"\n",
    "    path = base_folder / f\"plates/{item}.png\"\n",
    "    if path.exists():\n",
    "        continue\n",
    "    download_image(url, path)\n",
    "\n",
    "print(\"\\nDownload concluído!\")\n",
    "\n",
    "print(\"\\nBaixando mega stones...\")\n",
    "for item in tqdm(mega_stones):\n",
    "    url = f\"{base_mega_stones_url}{item}.png\"\n",
    "    path = base_folder / f\"mega-stones/{item}.png\"\n",
    "\n",
    "    if path.exists():\n",
    "        continue\n",
    "    download_image(url, path)\n",
    "\n",
    "print(\"\\nDownload concluído!\")"
   ]
  },
  {
   "cell_type": "code",
   "execution_count": null,
   "metadata": {},
   "outputs": [],
   "source": []
  }
 ],
 "metadata": {
  "kernelspec": {
   "display_name": "Python 3",
   "language": "python",
   "name": "python3"
  },
  "language_info": {
   "codemirror_mode": {
    "name": "ipython",
    "version": 3
   },
   "file_extension": ".py",
   "mimetype": "text/x-python",
   "name": "python",
   "nbconvert_exporter": "python",
   "pygments_lexer": "ipython3",
   "version": "3.13.3"
  }
 },
 "nbformat": 4,
 "nbformat_minor": 2
}
