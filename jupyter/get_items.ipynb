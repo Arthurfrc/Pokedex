{
 "cells": [
  {
   "cell_type": "code",
   "execution_count": 6,
   "metadata": {},
   "outputs": [],
   "source": [
    "import os\n",
    "import requests\n",
    "from tqdm.notebook import tqdm\n",
    "from pathlib import Path"
   ]
  },
  {
   "cell_type": "code",
   "execution_count": 7,
   "metadata": {},
   "outputs": [],
   "source": [
    "# Funções auxiliares para criar pastas e baixar imagens\n",
    "def create_folder(path):\n",
    "    \"\"\"Cria uma pasta se ela não existir\"\"\"\n",
    "    Path(path).mkdir(parents=True, exist_ok=True)\n",
    "\n",
    "def download_image(url, path):\n",
    "    \"\"\"Baixa uma imagem da URL e salva no caminho especificado\"\"\"\n",
    "    try:\n",
    "        response = requests.get(url, timeout=10)\n",
    "        if response.status_code == 200:\n",
    "            with open(path, 'wb') as f:\n",
    "                f.write(response.content)\n",
    "            return True\n",
    "    except Exception as e:\n",
    "        print(f\"Erro ao baixar {url}: {e}\")\n",
    "    return False"
   ]
  },
  {
   "cell_type": "code",
   "execution_count": 14,
   "metadata": {},
   "outputs": [],
   "source": [
    "# Lista de itens de evolução\n",
    "evolution_items = [\n",
    "    \"fire-stone\", \"water-stone\", \"thunder-stone\", \"leaf-stone\", \"moon-stone\",\n",
    "    \"sun-stone\", \"shiny-stone\", \"dusk-stone\", \"dawn-stone\", \"ice-stone\",\n",
    "    \"kings-rock\", \"metal-coat\", \"dragon-scale\", \"up-grade\", \"protector\",\n",
    "    \"electirizer\", \"magmarizer\", \"dubious-disc\", \"reaper-cloth\", \"prism-scale\",\n",
    "    \"sachet\", \"whipped-dream\", \"tart-apple\", \"sweet-apple\", \"cracked-pot\",\n",
    "    \"chipped-pot\", \"galarica-cuff\", \"galarica-wreath\", \"auspicious-armor\",\n",
    "    \"malicious-armor\", \"masterpiece-teacup\", \"teacup\"\n",
    "]\n",
    "\n",
    "# Lista de HMs e TMs\n",
    "tm_items = [\n",
    "    \"tm-bug\", \"tm-dark\", \"tm-dragon\", \"tm-electric\", \"tm-fighting\",\n",
    "    \"tm-fire\", \"tm-flying\", \"tm-ghost\", \"tm-grass\", \"tm-ground\",\n",
    "    \"tm-ice\", \"tm-normal\", \"tm-poison\", \"tm-psychic\", \"tm-rock\",\n",
    "    \"tm-steel\", \"tm-water\"\n",
    "]\n",
    "\n",
    "# Lista de plates\n",
    "plates = [\n",
    "    \"insect-plate\",   # Bug  \n",
    "    \"dread-plate\",    # Dark  \n",
    "    \"draco-plate\",    # Dragon  \n",
    "    \"zap-plate\",      # Electric  \n",
    "    \"pixie-plate\",    # Fairy\n",
    "    \"fist-plate\",     # Fighting  \n",
    "    \"flame-plate\",    # Fire  \n",
    "    \"sky-plate\",      # Flying  \n",
    "    \"spooky-plate\",   # Ghost  \n",
    "    \"meadow-plate\",   # Grass  \n",
    "    \"icicle-plate\",   # Ice  \n",
    "    \"toxic-plate\",    # Poison  \n",
    "    \"mind-plate\",     # Psychic  \n",
    "    \"stone-plate\",    # Rock  \n",
    "    \"iron-plate\",     # Steel  \n",
    "    \"splash-plate\"    # Water  \n",
    "]\n",
    "\n",
    "# Base URL para os ícones\n",
    "base_url = \"https://play.pokemonshowdown.com/sprites/itemicons/\""
   ]
  },
  {
   "cell_type": "code",
   "execution_count": 15,
   "metadata": {},
   "outputs": [
    {
     "name": "stdout",
     "output_type": "stream",
     "text": [
      "Baixando itens de evolução...\n"
     ]
    },
    {
     "data": {
      "application/vnd.jupyter.widget-view+json": {
       "model_id": "6d3a8a6805b743ecb8d23bc931fb5c1e",
       "version_major": 2,
       "version_minor": 0
      },
      "text/plain": [
       "  0%|          | 0/32 [00:00<?, ?it/s]"
      ]
     },
     "metadata": {},
     "output_type": "display_data"
    },
    {
     "name": "stdout",
     "output_type": "stream",
     "text": [
      "\n",
      "Baixando HMs e TMs...\n"
     ]
    },
    {
     "data": {
      "application/vnd.jupyter.widget-view+json": {
       "model_id": "da889578d83e4ff49758064c8313bd5a",
       "version_major": 2,
       "version_minor": 0
      },
      "text/plain": [
       "  0%|          | 0/17 [00:00<?, ?it/s]"
      ]
     },
     "metadata": {},
     "output_type": "display_data"
    },
    {
     "name": "stdout",
     "output_type": "stream",
     "text": [
      "\n",
      "Baixando plates...\n",
      "items\\plates\\tm-water.png\n"
     ]
    },
    {
     "data": {
      "application/vnd.jupyter.widget-view+json": {
       "model_id": "50f195b905934e2d8571c93520ce9eee",
       "version_major": 2,
       "version_minor": 0
      },
      "text/plain": [
       "  0%|          | 0/16 [00:00<?, ?it/s]"
      ]
     },
     "metadata": {},
     "output_type": "display_data"
    },
    {
     "name": "stdout",
     "output_type": "stream",
     "text": [
      "\n",
      "Download concluído!\n"
     ]
    }
   ],
   "source": [
    "# Criar pasta de destino\n",
    "base_folder = Path(\"items\")\n",
    "create_folder(base_folder)\n",
    "create_folder(base_folder / \"evolution\")\n",
    "create_folder(base_folder / \"tms\")\n",
    "create_folder(base_folder / \"plates\")\n",
    "\n",
    "# Baixar itens de evolução\n",
    "print(\"Baixando itens de evolução...\")\n",
    "for item in tqdm(evolution_items):\n",
    "    url = f\"{base_url}{item}.png\"\n",
    "    path = base_folder / f\"evolution/{item}.png\"\n",
    "    if path.exists():\n",
    "        continue\n",
    "    download_image(url, path)\n",
    "\n",
    "# Baixar tipos de HMs e TMs\n",
    "print(\"\\nBaixando HMs e TMs...\")\n",
    "for item in tqdm(tm_items):\n",
    "    url = f\"{base_url}{item}.png\"\n",
    "    path = base_folder / f\"tms/{item}.png\"\n",
    "    if path.exists():\n",
    "        continue\n",
    "    download_image(url, path)\n",
    "\n",
    "# Baixar plates\n",
    "print(\"\\nBaixando plates...\")\n",
    "print(base_folder / f\"plates/{item}.png\")\n",
    "for item in tqdm(plates):\n",
    "    url = f\"{base_url}{item}.png\"\n",
    "    path = base_folder / f\"plates/{item}.png\"\n",
    "    if path.exists():\n",
    "        continue\n",
    "    download_image(url, path)\n",
    "\n",
    "print(\"\\nDownload concluído!\")"
   ]
  },
  {
   "cell_type": "code",
   "execution_count": null,
   "metadata": {},
   "outputs": [],
   "source": []
  }
 ],
 "metadata": {
  "kernelspec": {
   "display_name": "Python 3",
   "language": "python",
   "name": "python3"
  },
  "language_info": {
   "codemirror_mode": {
    "name": "ipython",
    "version": 3
   },
   "file_extension": ".py",
   "mimetype": "text/x-python",
   "name": "python",
   "nbconvert_exporter": "python",
   "pygments_lexer": "ipython3",
   "version": "3.13.3"
  }
 },
 "nbformat": 4,
 "nbformat_minor": 2
}
