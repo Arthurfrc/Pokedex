{
 "cells": [
  {
   "cell_type": "code",
   "execution_count": 3,
   "metadata": {},
   "outputs": [
    {
     "name": "stdout",
     "output_type": "stream",
     "text": [
      "Diretório de trabalho atual: c:\\Users\\artur\\Documents\\Pokedex\\jupyter\n"
     ]
    },
    {
     "ename": "FileNotFoundError",
     "evalue": "Pasta não encontrada: C:\\Users\\artur\\Documents\\Pokedex\\jupyter\\assets\\pokemons",
     "output_type": "error",
     "traceback": [
      "\u001b[31m---------------------------------------------------------------------------\u001b[39m",
      "\u001b[31mFileNotFoundError\u001b[39m                         Traceback (most recent call last)",
      "\u001b[36mCell\u001b[39m\u001b[36m \u001b[39m\u001b[32mIn[3]\u001b[39m\u001b[32m, line 12\u001b[39m\n\u001b[32m     10\u001b[39m root_dir = cwd / \u001b[33m\"\u001b[39m\u001b[33massets\u001b[39m\u001b[33m\"\u001b[39m / \u001b[33m\"\u001b[39m\u001b[33mpokemons\u001b[39m\u001b[33m\"\u001b[39m\n\u001b[32m     11\u001b[39m \u001b[38;5;28;01mif\u001b[39;00m \u001b[38;5;129;01mnot\u001b[39;00m root_dir.exists():\n\u001b[32m---> \u001b[39m\u001b[32m12\u001b[39m     \u001b[38;5;28;01mraise\u001b[39;00m \u001b[38;5;167;01mFileNotFoundError\u001b[39;00m(\u001b[33mf\u001b[39m\u001b[33m\"\u001b[39m\u001b[33mPasta não encontrada: \u001b[39m\u001b[38;5;132;01m{\u001b[39;00mroot_dir.resolve()\u001b[38;5;132;01m}\u001b[39;00m\u001b[33m\"\u001b[39m)\n\u001b[32m     13\u001b[39m \u001b[38;5;28mprint\u001b[39m(\u001b[33m\"\u001b[39m\u001b[33mUsando como raiz:\u001b[39m\u001b[33m\"\u001b[39m, root_dir)\n\u001b[32m     15\u001b[39m \u001b[38;5;66;03m# 3) Liste todas as pastas do mais profundo para o mais raso\u001b[39;00m\n",
      "\u001b[31mFileNotFoundError\u001b[39m: Pasta não encontrada: C:\\Users\\artur\\Documents\\Pokedex\\jupyter\\assets\\pokemons"
     ]
    }
   ],
   "source": [
    "from pathlib import Path\n",
    "import re\n",
    "\n",
    "# 1) Detecta automaticamente o root do projeto (onde está a pasta assets)\n",
    "cwd = Path().cwd()\n",
    "if (cwd / \"assets\").exists():\n",
    "    project_root = cwd\n",
    "elif (cwd.parent / \"assets\").exists():\n",
    "    project_root = cwd.parent\n",
    "else:\n",
    "    raise FileNotFoundError(f\"Não encontrei a pasta assets em {cwd} nem em {cwd.parent}\")\n",
    "\n",
    "# 2) Aponta para assets/pokemons\n",
    "root_dir = project_root / \"assets\" / \"pokemons\"\n",
    "print(\"Usando como raiz: \", project_root)\n",
    "print(\"Renomeando subpastas em:\", root_dir)\n",
    "if not root_dir.exists():\n",
    "    raise FileNotFoundError(f\"Pasta não encontrada: {root_dir}\")\n",
    "\n",
    "# 3) Coleta todas as pastas do mais profundo para o mais raso\n",
    "dirs = sorted(\n",
    "    [d for d in root_dir.rglob(\"*\") if d.is_dir()],\n",
    "    key=lambda d: len(d.parts),\n",
    "    reverse=True\n",
    ")\n",
    "\n",
    "# 4) Para cada pasta, remove espaços, troca por hífen e converte para minúsculo\n",
    "for old_path in dirs:\n",
    "    name = old_path.name\n",
    "    novo = re.sub(r\"\\s*-\\s*\", \"-\", name)  # unifica espaços ao redor de \"-\"\n",
    "    novo = re.sub(r\"\\s+\", \"-\", novo).lower()  # espaços → hífen + lower()\n",
    "    if name != novo:\n",
    "        new_path = old_path.with_name(novo)\n",
    "        old_path.rename(new_path)\n",
    "        print(f\"Renomeado: {name} → {novo}\")"
   ]
  },
  {
   "cell_type": "code",
   "execution_count": null,
   "metadata": {},
   "outputs": [],
   "source": []
  }
 ],
 "metadata": {
  "kernelspec": {
   "display_name": "Python 3",
   "language": "python",
   "name": "python3"
  },
  "language_info": {
   "codemirror_mode": {
    "name": "ipython",
    "version": 3
   },
   "file_extension": ".py",
   "mimetype": "text/x-python",
   "name": "python",
   "nbconvert_exporter": "python",
   "pygments_lexer": "ipython3",
   "version": "3.13.3"
  }
 },
 "nbformat": 4,
 "nbformat_minor": 2
}
