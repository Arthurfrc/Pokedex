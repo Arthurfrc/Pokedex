{
 "cells": [
  {
   "cell_type": "code",
   "execution_count": 1,
   "metadata": {},
   "outputs": [
    {
     "name": "stdout",
     "output_type": "stream",
     "text": [
      "Requirement already satisfied: beautifulsoup4 in c:\\python311\\lib\\site-packages (4.12.2)Note: you may need to restart the kernel to use updated packages.\n",
      "\n",
      "Requirement already satisfied: soupsieve>1.2 in c:\\python311\\lib\\site-packages (from beautifulsoup4) (2.4.1)\n"
     ]
    }
   ],
   "source": [
    "%pip install beautifulsoup4"
   ]
  },
  {
   "cell_type": "code",
   "execution_count": 2,
   "metadata": {},
   "outputs": [],
   "source": [
    "import requests\n",
    "from bs4 import BeautifulSoup\n",
    "from tqdm.notebook import tqdm\n",
    "from pathlib import Path"
   ]
  },
  {
   "cell_type": "code",
   "execution_count": 3,
   "metadata": {},
   "outputs": [],
   "source": [
    "def create_folder(path):\n",
    "    \"\"\"Cria uma pasta se ela não existir.\"\"\"\n",
    "    Path(path).mkdir(parents=True, exist_ok=True)\n",
    "\n",
    "def download_image(url, path):\n",
    "    \"\"\"Baixa a imagem da URL se ela não existir ainda.\"\"\"\n",
    "    if Path(path).exists():\n",
    "        return False\n",
    "    try:\n",
    "        resp = requests.get(url, timeout=10)\n",
    "        if resp.status_code == 200:\n",
    "            with open(path, \"wb\") as f:\n",
    "                f.write(resp.content)\n",
    "            return True\n",
    "    except Exception as e:\n",
    "        print(f\"Erro ao baixar {url}: {e}\")\n",
    "    return False"
   ]
  },
  {
   "cell_type": "code",
   "execution_count": 4,
   "metadata": {},
   "outputs": [
    {
     "name": "stdout",
     "output_type": "stream",
     "text": [
      "Encontrados 1420 sprites de treinadores.\n"
     ]
    }
   ],
   "source": [
    "# URL da listagem de trainers\n",
    "url = \"https://play.pokemonshowdown.com/sprites/trainers/\"\n",
    "\n",
    "# Faz o request e parseia o HTML\n",
    "resp = requests.get(url)\n",
    "soup = BeautifulSoup(resp.text, \"html.parser\")\n",
    "\n",
    "# Pega todos os <a href=\"xxx.png\">\n",
    "trainer_files = [\n",
    "    a[\"href\"] for a in soup.find_all(\"a\", href=True)\n",
    "    if a[\"href\"].endswith(\".png\") and not a[\"href\"].startswith(\"..\")\n",
    "]\n",
    "\n",
    "print(f\"Encontrados {len(trainer_files)} sprites de treinadores.\")\n",
    "# Exemplo: ['aaron.png', 'acerola-masters.png', ...]"
   ]
  },
  {
   "cell_type": "code",
   "execution_count": 12,
   "metadata": {},
   "outputs": [
    {
     "name": "stdout",
     "output_type": "stream",
     "text": [
      "Iniciando download (até 200 novas imagens)...\n"
     ]
    },
    {
     "data": {
      "application/vnd.jupyter.widget-view+json": {
       "model_id": "90fce1f96b6944899f48d819657ab155",
       "version_major": 2,
       "version_minor": 0
      },
      "text/plain": [
       "  0%|          | 0/1420 [00:01<?, ?it/s]"
      ]
     },
     "metadata": {},
     "output_type": "display_data"
    },
    {
     "name": "stdout",
     "output_type": "stream",
     "text": [
      "\n",
      "Download concluído! Novas imagens baixadas: 199\n"
     ]
    }
   ],
   "source": [
    "# Célula 4 – Baixar sprites de treinadores com limite de downloads únicos\n",
    "from pathlib import Path\n",
    "\n",
    "base_url    = \"https://play.pokemonshowdown.com/sprites/trainers/\"\n",
    "destiny_dir = Path(\"trainers\")\n",
    "create_folder(destiny_dir)\n",
    "\n",
    "# Defina aqui quantas imagens novas você quer baixar (não conta as que já existem)\n",
    "max_images = int(input(\"Quantas imagens únicas deseja baixar? \"))\n",
    "count = 0\n",
    "\n",
    "print(f\"Iniciando download (até {max_images} novas imagens)...\")\n",
    "for fname in tqdm(trainer_files):\n",
    "    src = f\"{base_url}{fname}\"\n",
    "    dst = destiny_dir / fname\n",
    "\n",
    "    # pula se já existir\n",
    "    if dst.exists():\n",
    "        continue\n",
    "\n",
    "    # faz o download e conta apenas se foi realmente baixada\n",
    "    if download_image(src, dst):\n",
    "        count += 1\n",
    "        # verifica se bateu o limite\n",
    "        if count >= max_images:\n",
    "            print(f\"⏹️ Limite de {max_images} imagens atingido.\")\n",
    "            break\n",
    "\n",
    "print(f\"\\nDownload concluído! Novas imagens baixadas: {count}\")"
   ]
  },
  {
   "cell_type": "code",
   "execution_count": null,
   "metadata": {},
   "outputs": [],
   "source": []
  }
 ],
 "metadata": {
  "kernelspec": {
   "display_name": "Python 3",
   "language": "python",
   "name": "python3"
  },
  "language_info": {
   "codemirror_mode": {
    "name": "ipython",
    "version": 3
   },
   "file_extension": ".py",
   "mimetype": "text/x-python",
   "name": "python",
   "nbconvert_exporter": "python",
   "pygments_lexer": "ipython3",
   "version": "3.13.3"
  }
 },
 "nbformat": 4,
 "nbformat_minor": 2
}
